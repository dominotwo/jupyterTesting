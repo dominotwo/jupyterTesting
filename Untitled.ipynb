{
 "cells": [
  {
   "cell_type": "code",
   "execution_count": 54,
   "metadata": {
    "collapsed": true,
    "deletable": true,
    "editable": true
   },
   "outputs": [],
   "source": [
    "class metric:\n",
    "    phrase = ''\n",
    "    counter = 0\n",
    "    callback = None\n",
    "    \n",
    "    def __init__(self, phrase, callback):\n",
    "        self.phrase = phrase\n",
    "        self.callback = callback\n",
    "\n",
    "    def check_line_and_take_action(self, line):\n",
    "        if line in self.phrase:\n",
    "            self.counter += 1\n",
    "            self.callback()"
   ]
  },
  {
   "cell_type": "code",
   "execution_count": 34,
   "metadata": {
    "collapsed": true,
    "deletable": true,
    "editable": true
   },
   "outputs": [],
   "source": [
    "metrics_dict = {}"
   ]
  },
  {
   "cell_type": "code",
   "execution_count": 55,
   "metadata": {
    "collapsed": true,
    "deletable": true,
    "editable": true
   },
   "outputs": [],
   "source": [
    "def linux_booting():\n",
    "    \n",
    "    print('linux booting')\n",
    "    \n",
    "m = metric('Linux Booting', linux_booting)\n",
    "metrics_dict[m.phrase] = m\n",
    "\n",
    "def hovig_here():\n",
    "    print('hovig was here')\n",
    "    \n",
    "m = metric('Ara and Hovig was here', hovig_here)\n",
    "metrics_dict[m.phrase] = m"
   ]
  },
  {
   "cell_type": "code",
   "execution_count": 36,
   "metadata": {
    "collapsed": true,
    "deletable": true,
    "editable": true
   },
   "outputs": [],
   "source": [
    "lines = ['Linux Booting', 'Hovig was here', 'Chris was Here']"
   ]
  },
  {
   "cell_type": "code",
   "execution_count": 58,
   "metadata": {
    "collapsed": false,
    "deletable": true,
    "editable": true
   },
   "outputs": [
    {
     "name": "stdout",
     "output_type": "stream",
     "text": [
      "counter is: 0\n",
      "linux booting\n",
      "hovig was here\n"
     ]
    }
   ],
   "source": [
    "for l in lines:\n",
    "    if l in metrics_dict:\n",
    "#         m = metrics_dict[l]\n",
    "        print('counter is: {}'.format(metrics_dict[l].counter))\n",
    "        metrics_dict[l].callback()\n",
    "    else:\n",
    "        for k, v in metrics_dict.items():\n",
    "            v.check_line_and_take_action(l)"
   ]
  }
 ],
 "metadata": {
  "kernelspec": {
   "display_name": "Python 3",
   "language": "python",
   "name": "python3"
  },
  "language_info": {
   "codemirror_mode": {
    "name": "ipython",
    "version": 3
   },
   "file_extension": ".py",
   "mimetype": "text/x-python",
   "name": "python",
   "nbconvert_exporter": "python",
   "pygments_lexer": "ipython3",
   "version": "3.5.2"
  }
 },
 "nbformat": 4,
 "nbformat_minor": 5
}
